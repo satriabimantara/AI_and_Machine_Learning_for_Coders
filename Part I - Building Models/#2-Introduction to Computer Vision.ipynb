{
 "cells": [
  {
   "cell_type": "markdown",
   "id": "f64dfc38",
   "metadata": {},
   "source": [
    "# Install Required Libraries"
   ]
  },
  {
   "cell_type": "code",
   "execution_count": 10,
   "id": "fb60e2f6",
   "metadata": {},
   "outputs": [
    {
     "name": "stdout",
     "output_type": "stream",
     "text": [
      "Collecting pillow\n",
      "  Downloading Pillow-9.2.0-cp310-cp310-win_amd64.whl (3.3 MB)\n",
      "Installing collected packages: pillow\n",
      "Successfully installed pillow-9.2.0\n"
     ]
    }
   ],
   "source": [
    "!pip install pillow"
   ]
  },
  {
   "cell_type": "markdown",
   "id": "0d74a75e",
   "metadata": {},
   "source": [
    "# Import Required Libraries"
   ]
  },
  {
   "cell_type": "code",
   "execution_count": 11,
   "id": "da371372",
   "metadata": {},
   "outputs": [],
   "source": [
    "import tensorflow as tf\n",
    "import numpy as np\n",
    "from tensorflow.keras import Sequential\n",
    "from tensorflow.keras.layers import Dense, Flatten\n",
    "\n",
    "from PIL import Image"
   ]
  },
  {
   "cell_type": "markdown",
   "id": "001469e8",
   "metadata": {},
   "source": [
    "# Recognizing Clothing Items"
   ]
  },
  {
   "cell_type": "markdown",
   "id": "23309461",
   "metadata": {},
   "source": [
    "## The Data: Fashion MNIST"
   ]
  },
  {
   "cell_type": "markdown",
   "id": "e5ae5e44",
   "metadata": {},
   "source": [
    "**MNIST Dataset** memiliki sekumpulan record data yang berisikan gambar 28 x 28 piksel dari 10 tipe jenis pakaian yang berbeda. Label kelas dari ke-10 jenis pakaian tersebut berlabel 0 sampai 9. Warna gambarnya adalah Monokrom (Hitam dan Putih), sehingga memiliki nilai dari 0 sampai 255. <br>\n",
    "Setiap gambar memiliki 784 nilai diantara 0 - 255 yang berasal dari perkalian 28 x 28"
   ]
  },
  {
   "cell_type": "code",
   "execution_count": 9,
   "id": "4a3dda3c",
   "metadata": {},
   "outputs": [
    {
     "data": {
      "text/plain": [
       "(array([[[0, 0, 0, ..., 0, 0, 0],\n",
       "         [0, 0, 0, ..., 0, 0, 0],\n",
       "         [0, 0, 0, ..., 0, 0, 0],\n",
       "         ...,\n",
       "         [0, 0, 0, ..., 0, 0, 0],\n",
       "         [0, 0, 0, ..., 0, 0, 0],\n",
       "         [0, 0, 0, ..., 0, 0, 0]],\n",
       " \n",
       "        [[0, 0, 0, ..., 0, 0, 0],\n",
       "         [0, 0, 0, ..., 0, 0, 0],\n",
       "         [0, 0, 0, ..., 0, 0, 0],\n",
       "         ...,\n",
       "         [0, 0, 0, ..., 0, 0, 0],\n",
       "         [0, 0, 0, ..., 0, 0, 0],\n",
       "         [0, 0, 0, ..., 0, 0, 0]],\n",
       " \n",
       "        [[0, 0, 0, ..., 0, 0, 0],\n",
       "         [0, 0, 0, ..., 0, 0, 0],\n",
       "         [0, 0, 0, ..., 0, 0, 0],\n",
       "         ...,\n",
       "         [0, 0, 0, ..., 0, 0, 0],\n",
       "         [0, 0, 0, ..., 0, 0, 0],\n",
       "         [0, 0, 0, ..., 0, 0, 0]],\n",
       " \n",
       "        [[0, 0, 0, ..., 0, 0, 0],\n",
       "         [0, 0, 0, ..., 0, 0, 0],\n",
       "         [0, 0, 0, ..., 0, 0, 0],\n",
       "         ...,\n",
       "         [0, 0, 0, ..., 0, 0, 0],\n",
       "         [0, 0, 0, ..., 0, 0, 0],\n",
       "         [0, 0, 0, ..., 0, 0, 0]],\n",
       " \n",
       "        [[0, 0, 0, ..., 0, 0, 0],\n",
       "         [0, 0, 0, ..., 0, 0, 0],\n",
       "         [0, 0, 0, ..., 0, 0, 0],\n",
       "         ...,\n",
       "         [0, 0, 0, ..., 0, 0, 0],\n",
       "         [0, 0, 0, ..., 0, 0, 0],\n",
       "         [0, 0, 0, ..., 0, 0, 0]]], dtype=uint8),\n",
       " array([9, 0, 0, 3, 0], dtype=uint8))"
      ]
     },
     "execution_count": 9,
     "metadata": {},
     "output_type": "execute_result"
    }
   ],
   "source": [
    "dataset = tf.keras.datasets.fashion_mnist\n",
    "\n",
    "# split the data into training and testing data\n",
    "(training_images, training_labels), (testing_images, testing_labels) = dataset.load_data()\n",
    "\n",
    "# see the data\n",
    "training_images[0:5], training_labels[0:5]"
   ]
  },
  {
   "cell_type": "code",
   "execution_count": 23,
   "id": "911d06e3",
   "metadata": {},
   "outputs": [
    {
     "data": {
      "text/plain": [
       "((60000, 28, 28), (10000, 28, 28))"
      ]
     },
     "execution_count": 23,
     "metadata": {},
     "output_type": "execute_result"
    }
   ],
   "source": [
    "training_images.shape, testing_images.shape"
   ]
  },
  {
   "cell_type": "code",
   "execution_count": 19,
   "id": "1295c0ae",
   "metadata": {},
   "outputs": [
    {
     "data": {
      "image/png": "[encoded data removed]",
      "text/plain": [
       "<PIL.Image.Image image mode=L size=28x28>"
      ]
     },
     "metadata": {},
     "output_type": "display_data"
    },
    {
     "data": {
      "image/png": "[encoded data removed]",
      "text/plain": [
       "<PIL.Image.Image image mode=L size=28x28>"
      ]
     },
     "metadata": {},
     "output_type": "display_data"
    },
    {
     "data": {
      "image/png": "[encoded data removed]",
      "text/plain": [
       "<PIL.Image.Image image mode=L size=28x28>"
      ]
     },
     "metadata": {},
     "output_type": "display_data"
    },
    {
     "data": {
      "image/png": "[encoded data removed]",
      "text/plain": [
       "<PIL.Image.Image image mode=L size=28x28>"
      ]
     },
     "metadata": {},
     "output_type": "display_data"
    },
    {
     "data": {
      "image/png": "[encoded data removed]",
      "text/plain": [
       "<PIL.Image.Image image mode=L size=28x28>"
      ]
     },
     "metadata": {},
     "output_type": "display_data"
    }
   ],
   "source": [
    "# show the image sample from training image\n",
    "for i in range(5):\n",
    "    im = Image.fromarray(training_images[i])\n",
    "    display(im)"
   ]
  },
  {
   "cell_type": "code",
   "execution_count": 7,
   "id": "18a05b5f",
   "metadata": {},
   "outputs": [],
   "source": [
    "# normalize the data between 0 and 1. The maximum pixel value is 255, so we divide all the value with this.\n",
    "training_images = training_images/255\n",
    "testing_images = testing_images/255"
   ]
  },
  {
   "cell_type": "markdown",
   "id": "62249590",
   "metadata": {},
   "source": [
    "## Designing the Neural Network"
   ]
  },
  {
   "cell_type": "code",
   "execution_count": 20,
   "id": "5a2a8bda",
   "metadata": {},
   "outputs": [
    {
     "name": "stdout",
     "output_type": "stream",
     "text": [
      "Epoch 1/5\n",
      "1875/1875 [==============================] - 16s 8ms/step - loss: 3.8053 - accuracy: 0.6843\n",
      "Epoch 2/5\n",
      "1875/1875 [==============================] - 10s 5ms/step - loss: 0.7570 - accuracy: 0.7159\n",
      "Epoch 3/5\n",
      "1875/1875 [==============================] - 8s 4ms/step - loss: 0.6313 - accuracy: 0.7701\n",
      "Epoch 4/5\n",
      "1875/1875 [==============================] - 14s 7ms/step - loss: 0.5546 - accuracy: 0.8032\n",
      "Epoch 5/5\n",
      "1875/1875 [==============================] - 16s 8ms/step - loss: 0.5221 - accuracy: 0.8179\n"
     ]
    },
    {
     "data": {
      "text/plain": [
       "<keras.callbacks.History at 0x1c60f204ca0>"
      ]
     },
     "execution_count": 20,
     "metadata": {},
     "output_type": "execute_result"
    }
   ],
   "source": [
    "# define model architecture\n",
    "model = Sequential([\n",
    "    Flatten(input_shape=(28,28)),\n",
    "    Dense(units=128, activation=tf.nn.relu),\n",
    "    Dense(units=10, activation=tf.nn.softmax)\n",
    "])\n",
    "\n",
    "\n",
    "# compile the model\n",
    "model.compile(\n",
    "    optimizer='adam',\n",
    "    loss='sparse_categorical_crossentropy',\n",
    "    metrics=['accuracy']\n",
    ")\n",
    "\n",
    "# fit the data into model\n",
    "model.fit(training_images, training_labels, epochs=5)"
   ]
  },
  {
   "cell_type": "markdown",
   "id": "50d2b74a",
   "metadata": {},
   "source": [
    "**Explanation [Indonesia]** <br>\n",
    "1. **Flatten** adalah spesifikasi untuk input layer. Pada layer ini, menerima inputan 2 dimensi dan mengkonversinya menjadi 1D array.\n",
    "2. **Dense** layer kedua adalah hidden layer yang berisi 128 unit. Jumlah unit bernilai 128 tidak ada aturan baku.\n",
    "3. **Dense** layer ketiga adalah output layer yang berisi 10 unit. Jumlah unit bernilai 10 karena jumlah kategori pakaian ada 10\n",
    "4. Loss function yang digunakan adalah *sparse_categorical_crossentropy* karena kelas yang diprediksi adalah kategorikal.\n",
    "5. Optimizer yang dipilih adalah *adam* yang merupakan evolusi dari *sgd*"
   ]
  },
  {
   "cell_type": "markdown",
   "id": "70c4f223",
   "metadata": {},
   "source": [
    "## Model Evaluation"
   ]
  },
  {
   "cell_type": "code",
   "execution_count": 21,
   "id": "522a03ba",
   "metadata": {},
   "outputs": [
    {
     "name": "stdout",
     "output_type": "stream",
     "text": [
      "313/313 [==============================] - 1s 3ms/step - loss: 0.5785 - accuracy: 0.7970\n"
     ]
    }
   ],
   "source": [
    "# evaluate the model using test data\n",
    "model_evaluation_results = model.evaluate(testing_images, testing_labels)"
   ]
  },
  {
   "cell_type": "markdown",
   "id": "c939e257",
   "metadata": {},
   "source": [
    "**Results** <br>\n",
    "Training Accuracy: 81% <br>\n",
    "Testing Accuracy: 79%"
   ]
  },
  {
   "cell_type": "markdown",
   "id": "3105462a",
   "metadata": {},
   "source": [
    "## Exploring the Model Output"
   ]
  },
  {
   "cell_type": "code",
   "execution_count": 28,
   "id": "785b365a",
   "metadata": {},
   "outputs": [
    {
     "name": "stdout",
     "output_type": "stream",
     "text": [
      "313/313 [==============================] - 1s 3ms/step\n"
     ]
    }
   ],
   "source": [
    "classification = model.predict(testing_images)"
   ]
  },
  {
   "cell_type": "code",
   "execution_count": 30,
   "id": "32bd8900",
   "metadata": {},
   "outputs": [
    {
     "name": "stdout",
     "output_type": "stream",
     "text": [
      "9\n"
     ]
    }
   ],
   "source": [
    "# true label\n",
    "print(testing_labels[0])"
   ]
  },
  {
   "cell_type": "code",
   "execution_count": 34,
   "id": "c928bc99",
   "metadata": {},
   "outputs": [
    {
     "name": "stdout",
     "output_type": "stream",
     "text": [
      "Predicted Label:  [1.6247916e-12 2.8368671e-10 1.2632013e-24 2.7208215e-16 2.4026809e-18\n",
      " 4.5599875e-01 2.3063329e-15 3.8991421e-02 4.3976928e-07 5.0500941e-01]\n",
      "Maximum label value:  9\n"
     ]
    }
   ],
   "source": [
    "# predicted label\n",
    "print(\"Predicted Label: \",classification[0])\n",
    "print(\"Maximum label value: \", np.argmax(classification[0]))\n"
   ]
  },
  {
   "cell_type": "markdown",
   "id": "633ab36f",
   "metadata": {},
   "source": [
    "## Discovering Overfitting\n",
    "***\n",
    "Pada percobaan kali ini akan dilakukan beberapa percobaan untuk mengurangi terjadinya overfitting dan mengusahakan meningkatkan akurasi pada data testing"
   ]
  },
  {
   "cell_type": "markdown",
   "id": "ae2daee1",
   "metadata": {},
   "source": [
    "### Trying with bigger epoch value"
   ]
  },
  {
   "cell_type": "code",
   "execution_count": 38,
   "id": "c48a2431",
   "metadata": {},
   "outputs": [
    {
     "name": "stdout",
     "output_type": "stream",
     "text": [
      "Epoch 1/10\n",
      "1875/1875 [==============================] - 12s 6ms/step - loss: 4.2146 - accuracy: 0.6963\n",
      "Epoch 2/10\n",
      "1875/1875 [==============================] - 12s 6ms/step - loss: 0.6856 - accuracy: 0.7521\n",
      "Epoch 3/10\n",
      "1875/1875 [==============================] - 12s 6ms/step - loss: 0.5700 - accuracy: 0.8008\n",
      "Epoch 4/10\n",
      "1875/1875 [==============================] - 12s 6ms/step - loss: 0.5196 - accuracy: 0.8210\n",
      "Epoch 5/10\n",
      "1875/1875 [==============================] - 13s 7ms/step - loss: 0.4967 - accuracy: 0.8328\n",
      "Epoch 6/10\n",
      "1875/1875 [==============================] - 14s 8ms/step - loss: 0.4798 - accuracy: 0.8372\n",
      "Epoch 7/10\n",
      "1875/1875 [==============================] - 15s 8ms/step - loss: 0.4632 - accuracy: 0.8429\n",
      "Epoch 8/10\n",
      "1875/1875 [==============================] - 12s 7ms/step - loss: 0.4713 - accuracy: 0.8429\n",
      "Epoch 9/10\n",
      "1875/1875 [==============================] - 8s 4ms/step - loss: 0.4561 - accuracy: 0.8469\n",
      "Epoch 10/10\n",
      "1875/1875 [==============================] - 9s 5ms/step - loss: 0.4689 - accuracy: 0.8417\n"
     ]
    },
    {
     "data": {
      "text/plain": [
       "<keras.callbacks.History at 0x1c6187b55a0>"
      ]
     },
     "execution_count": 38,
     "metadata": {},
     "output_type": "execute_result"
    }
   ],
   "source": [
    "model = Sequential([\n",
    "    Flatten(input_shape=(28,28)),\n",
    "    Dense(units=128, activation=tf.nn.relu),\n",
    "    Dense(units=10, activation=tf.nn.softmax)\n",
    "])\n",
    "\n",
    "\n",
    "# compile the model\n",
    "model.compile(\n",
    "    optimizer='adam',\n",
    "    loss='sparse_categorical_crossentropy',\n",
    "    metrics=['accuracy']\n",
    ")\n",
    "# fit the data into model using 10 epoch\n",
    "model.fit(training_images, training_labels, epochs=10)"
   ]
  },
  {
   "cell_type": "code",
   "execution_count": 39,
   "id": "ead9db95",
   "metadata": {},
   "outputs": [
    {
     "name": "stdout",
     "output_type": "stream",
     "text": [
      "313/313 [==============================] - 1s 3ms/step - loss: 0.5299 - accuracy: 0.8330\n"
     ]
    }
   ],
   "source": [
    "# evaluate the model using test data\n",
    "model_evaluation_results = model.evaluate(testing_images, testing_labels)"
   ]
  },
  {
   "cell_type": "markdown",
   "id": "7fdf61ef",
   "metadata": {},
   "source": [
    "**Results** <br>\n",
    "Training Accuracy: 84% <br>\n",
    "Testing Accuracy: 83% <br>"
   ]
  },
  {
   "cell_type": "markdown",
   "id": "470be5ee",
   "metadata": {},
   "source": [
    "### Stopping training phase automatically with some threshold\n",
    "***\n",
    "Training dari model akan berhenti jika sudah mencapai threshold akurasi tertentu, semisal akurasi >=95%"
   ]
  },
  {
   "cell_type": "code",
   "execution_count": 40,
   "id": "2fdd79ef",
   "metadata": {},
   "outputs": [
    {
     "name": "stdout",
     "output_type": "stream",
     "text": [
      "Epoch 1/50\n",
      "1875/1875 [==============================] - 8s 4ms/step - loss: 3.1012 - accuracy: 0.7025\n",
      "Epoch 2/50\n",
      "1875/1875 [==============================] - 11s 6ms/step - loss: 0.6906 - accuracy: 0.7552\n",
      "Epoch 3/50\n",
      "1875/1875 [==============================] - 7s 4ms/step - loss: 0.5909 - accuracy: 0.7896\n",
      "Epoch 4/50\n",
      "1875/1875 [==============================] - 7s 4ms/step - loss: 0.5404 - accuracy: 0.8123\n",
      "Epoch 5/50\n",
      "1875/1875 [==============================] - 9s 5ms/step - loss: 0.5156 - accuracy: 0.8210\n",
      "Epoch 6/50\n",
      "1875/1875 [==============================] - 9s 5ms/step - loss: 0.5008 - accuracy: 0.8286\n",
      "Epoch 7/50\n",
      "1875/1875 [==============================] - 8s 5ms/step - loss: 0.4910 - accuracy: 0.8332\n",
      "Epoch 8/50\n",
      "1875/1875 [==============================] - 9s 5ms/step - loss: 0.4814 - accuracy: 0.8374\n",
      "Epoch 9/50\n",
      "1875/1875 [==============================] - 8s 4ms/step - loss: 0.4771 - accuracy: 0.8386\n",
      "Epoch 10/50\n",
      "1875/1875 [==============================] - 6s 3ms/step - loss: 0.4683 - accuracy: 0.8420\n",
      "Epoch 11/50\n",
      "1875/1875 [==============================] - 6s 3ms/step - loss: 0.4752 - accuracy: 0.8406\n",
      "Epoch 12/50\n",
      "1875/1875 [==============================] - 4s 2ms/step - loss: 0.4540 - accuracy: 0.8458\n",
      "Epoch 13/50\n",
      "1875/1875 [==============================] - 4s 2ms/step - loss: 0.4628 - accuracy: 0.8450\n",
      "Epoch 14/50\n",
      "1875/1875 [==============================] - 5s 3ms/step - loss: 0.4568 - accuracy: 0.8465\n",
      "Epoch 15/50\n",
      "1875/1875 [==============================] - 3s 2ms/step - loss: 0.4612 - accuracy: 0.8447\n",
      "Epoch 16/50\n",
      "1875/1875 [==============================] - 3s 2ms/step - loss: 0.4600 - accuracy: 0.8468\n",
      "Epoch 17/50\n",
      "1872/1875 [============================>.] - ETA: 0s - loss: 0.4465 - accuracy: 0.8503\n",
      " Reached 85% accuracy, so stopping training!\n",
      "1875/1875 [==============================] - 3s 2ms/step - loss: 0.4464 - accuracy: 0.8503\n"
     ]
    },
    {
     "data": {
      "text/plain": [
       "<keras.callbacks.History at 0x1c61861fd30>"
      ]
     },
     "execution_count": 40,
     "metadata": {},
     "output_type": "execute_result"
    }
   ],
   "source": [
    "# use callback on the training\n",
    "class myCallback(tf.keras.callbacks.Callback):\n",
    "    # overiding the method\n",
    "    def on_epoch_end(self, epoch, logs={}):\n",
    "        if(logs.get('accuracy')>0.85):\n",
    "            print('\\n Reached 85% accuracy, so stopping training!')\n",
    "            self.model.stop_training = True\n",
    "\n",
    "callbacks = myCallback()\n",
    "\n",
    "model = Sequential([\n",
    "    Flatten(input_shape=(28,28)),\n",
    "    Dense(units=128, activation=tf.nn.relu),\n",
    "    Dense(units=10, activation=tf.nn.softmax)\n",
    "])\n",
    "\n",
    "\n",
    "# compile the model\n",
    "model.compile(\n",
    "    optimizer='adam',\n",
    "    loss='sparse_categorical_crossentropy',\n",
    "    metrics=['accuracy']\n",
    ")\n",
    "\n",
    "# fit the data into model using 10 epoch and also using callback\n",
    "model.fit(training_images, training_labels, epochs=50, callbacks=[callbacks])"
   ]
  },
  {
   "cell_type": "code",
   "execution_count": 41,
   "id": "7a34cf1c",
   "metadata": {},
   "outputs": [
    {
     "name": "stdout",
     "output_type": "stream",
     "text": [
      "313/313 [==============================] - 1s 2ms/step - loss: 0.5279 - accuracy: 0.8379\n"
     ]
    }
   ],
   "source": [
    "# evaluate the model using test data\n",
    "model_evaluation_results = model.evaluate(testing_images, testing_labels)"
   ]
  },
  {
   "cell_type": "markdown",
   "id": "2cc18b5c",
   "metadata": {},
   "source": [
    "**Results** <br>\n",
    "Training accuracy: 85% <br>\n",
    "Testing accuracy: 83%"
   ]
  },
  {
   "cell_type": "code",
   "execution_count": null,
   "id": "a8b75ac0",
   "metadata": {},
   "outputs": [],
   "source": []
  }
 ],
 "metadata": {
  "kernelspec": {
   "display_name": "AI_and_ML_Coders",
   "language": "python",
   "name": "ai_and_ml_coders"
  },
  "language_info": {
   "codemirror_mode": {
    "name": "ipython",
    "version": 3
   },
   "file_extension": ".py",
   "mimetype": "text/x-python",
   "name": "python",
   "nbconvert_exporter": "python",
   "pygments_lexer": "ipython3",
   "version": "3.10.4"
  },
  "toc": {
   "base_numbering": 1,
   "nav_menu": {},
   "number_sections": true,
   "sideBar": true,
   "skip_h1_title": false,
   "title_cell": "Table of Contents",
   "title_sidebar": "Contents",
   "toc_cell": false,
   "toc_position": {},
   "toc_section_display": true,
   "toc_window_display": true
  }
 },
 "nbformat": 4,
 "nbformat_minor": 5
}
